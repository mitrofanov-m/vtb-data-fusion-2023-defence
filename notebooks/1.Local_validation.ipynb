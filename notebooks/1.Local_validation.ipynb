{
 "cells": [
  {
   "cell_type": "code",
   "execution_count": 1,
   "id": "ec03da0f",
   "metadata": {},
   "outputs": [],
   "source": [
    "import json\n",
    "from pathlib import Path\n",
    "import numpy as np\n",
    "import pandas as pd\n",
    "from tqdm import tqdm\n",
    "import random\n",
    "\n",
    "import sys, os\n",
    "from pathlib import Path\n",
    "# необходимо добавить путь до корня репозитория, чтобы работала библиотека fusionlib\n",
    "sys.path.insert(0, os.path.join(Path('.').resolve().parent))\n",
    "\n",
    "from fusionlib.predicts import predict # Функция, позволяет получить предсказание нейронки.\n",
    "from fusionlib.check_budget import check_budget # функция проверки бюджета. Проверяйте допустимость решения до сабмита"
   ]
  },
  {
   "attachments": {},
   "cell_type": "markdown",
   "id": "4f2f33eb",
   "metadata": {},
   "source": [
    "# 1. Загрузка данных"
   ]
  },
  {
   "cell_type": "code",
   "execution_count": 2,
   "id": "ee7e9f78",
   "metadata": {},
   "outputs": [
    {
     "name": "stdout",
     "output_type": "stream",
     "text": [
      "Число уникальных пользователей для тюнинга модели: 7080\n"
     ]
    }
   ],
   "source": [
    "# здесь и далее необходимо вставить пути, актуальные для Вашей машины\n",
    "finetune_df_path = '/Users/xxx/Documents/Programming/vtb-data-fusion-2023/data/transactions_finetune.csv'\n",
    "finetune_df = pd.read_csv(finetune_df_path)\n",
    "print(f'Число уникальных пользователей для тюнинга модели: {finetune_df.user_id.nunique()}')"
   ]
  },
  {
   "cell_type": "code",
   "execution_count": 3,
   "id": "128f4805",
   "metadata": {},
   "outputs": [
    {
     "data": {
      "text/html": [
       "<div>\n",
       "<style scoped>\n",
       "    .dataframe tbody tr th:only-of-type {\n",
       "        vertical-align: middle;\n",
       "    }\n",
       "\n",
       "    .dataframe tbody tr th {\n",
       "        vertical-align: top;\n",
       "    }\n",
       "\n",
       "    .dataframe thead th {\n",
       "        text-align: right;\n",
       "    }\n",
       "</style>\n",
       "<table border=\"1\" class=\"dataframe\">\n",
       "  <thead>\n",
       "    <tr style=\"text-align: right;\">\n",
       "      <th></th>\n",
       "      <th>target_freq</th>\n",
       "      <th>target_count</th>\n",
       "    </tr>\n",
       "  </thead>\n",
       "  <tbody>\n",
       "    <tr>\n",
       "      <th>0</th>\n",
       "      <td>0.962994</td>\n",
       "      <td>6818</td>\n",
       "    </tr>\n",
       "    <tr>\n",
       "      <th>1</th>\n",
       "      <td>0.037006</td>\n",
       "      <td>262</td>\n",
       "    </tr>\n",
       "  </tbody>\n",
       "</table>\n",
       "</div>"
      ],
      "text/plain": [
       "   target_freq  target_count\n",
       "0     0.962994          6818\n",
       "1     0.037006           262"
      ]
     },
     "execution_count": 3,
     "metadata": {},
     "output_type": "execute_result"
    }
   ],
   "source": [
    "finetune_targets_path = '/Users/xxx/Documents/Programming/vtb-data-fusion-2023/data/target_finetune.csv'\n",
    "finetune_targets = pd.read_csv(finetune_targets_path)\n",
    "pd.concat([\n",
    "    finetune_targets.target.value_counts(normalize=True).rename(\"target_freq\"), \n",
    "    finetune_targets.target.value_counts(normalize=False).rename(\"target_count\")], axis=1)"
   ]
  },
  {
   "attachments": {},
   "cell_type": "markdown",
   "id": "a0641c43",
   "metadata": {},
   "source": [
    "# 2. Получение валидационной выборки\n",
    "В качестве примера получения валидационной выборки предлагаю взять 0.3 от набора транзакций для тюнинга модели."
   ]
  },
  {
   "cell_type": "code",
   "execution_count": 4,
   "id": "d45a317a",
   "metadata": {},
   "outputs": [],
   "source": [
    "from sklearn.model_selection import StratifiedShuffleSplit\n",
    "\n",
    "splitter = StratifiedShuffleSplit(test_size=.3, n_splits=1, random_state=7)\n",
    "split = splitter.split(finetune_targets, finetune_targets.target)\n",
    "_, val_inds = next(split)\n",
    "\n",
    "val_targets = finetune_targets.iloc[val_inds]\n",
    "val_user_id_set = set(val_targets.user_id.unique())\n",
    "val_df = finetune_df[finetune_df.user_id.apply(lambda id: id in val_user_id_set)]"
   ]
  },
  {
   "attachments": {},
   "cell_type": "markdown",
   "id": "dc93151c",
   "metadata": {},
   "source": [
    "Удостоверимся, что распределение таргета осталось прежним"
   ]
  },
  {
   "cell_type": "code",
   "execution_count": 5,
   "id": "d3b7011b",
   "metadata": {},
   "outputs": [
    {
     "data": {
      "text/html": [
       "<div>\n",
       "<style scoped>\n",
       "    .dataframe tbody tr th:only-of-type {\n",
       "        vertical-align: middle;\n",
       "    }\n",
       "\n",
       "    .dataframe tbody tr th {\n",
       "        vertical-align: top;\n",
       "    }\n",
       "\n",
       "    .dataframe thead th {\n",
       "        text-align: right;\n",
       "    }\n",
       "</style>\n",
       "<table border=\"1\" class=\"dataframe\">\n",
       "  <thead>\n",
       "    <tr style=\"text-align: right;\">\n",
       "      <th></th>\n",
       "      <th>target_freq</th>\n",
       "      <th>target_count</th>\n",
       "    </tr>\n",
       "  </thead>\n",
       "  <tbody>\n",
       "    <tr>\n",
       "      <th>0</th>\n",
       "      <td>0.962806</td>\n",
       "      <td>2045</td>\n",
       "    </tr>\n",
       "    <tr>\n",
       "      <th>1</th>\n",
       "      <td>0.037194</td>\n",
       "      <td>79</td>\n",
       "    </tr>\n",
       "  </tbody>\n",
       "</table>\n",
       "</div>"
      ],
      "text/plain": [
       "   target_freq  target_count\n",
       "0     0.962806          2045\n",
       "1     0.037194            79"
      ]
     },
     "execution_count": 5,
     "metadata": {},
     "output_type": "execute_result"
    }
   ],
   "source": [
    "pd.concat([\n",
    "    val_targets.target.value_counts(normalize=True).rename(\"target_freq\"), \n",
    "    val_targets.target.value_counts(normalize=False).rename(\"target_count\")], axis=1)"
   ]
  },
  {
   "cell_type": "code",
   "execution_count": 6,
   "id": "cf5e98b9",
   "metadata": {},
   "outputs": [],
   "source": [
    "val_df_path = '/Users/xxx/Documents/Programming/vtb-data-fusion-2023/data/validation_clear_transactions.csv'\n",
    "val_df.to_csv(val_df_path, index_label=False)"
   ]
  },
  {
   "attachments": {},
   "cell_type": "markdown",
   "id": "0ac95703",
   "metadata": {},
   "source": [
    "    "
   ]
  },
  {
   "attachments": {},
   "cell_type": "markdown",
   "id": "a747d20f",
   "metadata": {},
   "source": [
    "# 3. Валидация решения\n",
    "В зависимости от того, участвуете Вы в одном треке, или в обоих, предлагаю 2 решения:\n",
    "- Валидация с базовым решением атаки. Этот метод наиболее близко коррелирует с лидербордом (на момент 1 половины соревнования). Позволяет начать работать над задачей `Защиты` с минимальными зананиями противоположного трека\n",
    "- Валидация с кастомным решением атаки. Позволяет сравнить качество модели `Защиты` с собственными наработками по треку `Атака`. При минимальной доработке позволяет валидировать решение смежного трека"
   ]
  },
  {
   "cell_type": "markdown",
   "id": "65f3dfa8",
   "metadata": {},
   "source": [
    "## 3.1. Валидация с базовым решением атаки"
   ]
  },
  {
   "cell_type": "code",
   "execution_count": 7,
   "id": "2ba6b140",
   "metadata": {},
   "outputs": [],
   "source": [
    "from fusionlib.validation import validate_model_\n",
    "from fusionlib.predicts import reliable_predict"
   ]
  },
  {
   "cell_type": "code",
   "execution_count": 8,
   "id": "fa6d4746",
   "metadata": {},
   "outputs": [],
   "source": [
    "# путь до валидационной выборки\n",
    "val_df_path = '/Users/xxx/Documents/Programming/vtb-data-fusion-2023/data/validation_clear_transactions.csv'\n",
    "# путь до таргетов, которые используются на валидации\n",
    "targets_path = '/Users/xxx/Documents/Programming/vtb-data-fusion-2023/data/target_finetune.csv'\n",
    "# путь до файла с бинами после тренировки модели (nn_bins.pickle)\n",
    "bins_path = \"/Users/xxx/Documents/Programming/vtb-data-fusion-2023/vtb-data-fusion-2023-defence/models/nn_bins.pickle\" \n",
    "# путь до файла с весами нейронной сети (nn_weights.ckpt)\n",
    "model_path = \"/Users/xxx/Documents/Programming/vtb-data-fusion-2023/vtb-data-fusion-2023-defence/models/nn_weights.ckpt\" \n",
    "# путь до файла с квантилями для таргета (quantiles.pickle)\n",
    "quantiles_path = \"/Users/xxx/Documents/Programming/vtb-data-fusion-2023/vtb-data-fusion-2023-defence/misc/quantiles.json\" \n"
   ]
  },
  {
   "cell_type": "code",
   "execution_count": 9,
   "id": "a00c0a47",
   "metadata": {},
   "outputs": [
    {
     "name": "stderr",
     "output_type": "stream",
     "text": [
      "Global seed set to 20230206\n",
      "100%|██████████| 2124/2124 [00:33<00:00, 63.20it/s]\n",
      "Global seed set to 20230206\n"
     ]
    },
    {
     "name": "stdout",
     "output_type": "stream",
     "text": [
      "Качество на локальной валидации: 0.7159109481071629\n",
      "CPU times: user 9min 50s, sys: 2min, total: 11min 50s\n",
      "Wall time: 7min 49s\n"
     ]
    }
   ],
   "source": [
    "%%time\n",
    "\n",
    "mean_harm_roc_auc = validate_model_(reliable_predict, val_df_path, bins_path, model_path, targets_path, quantiles_path)\n",
    "print(f'Качество на локальной валидации: {mean_harm_roc_auc}')"
   ]
  },
  {
   "cell_type": "code",
   "execution_count": 10,
   "id": "480ab4b3",
   "metadata": {},
   "outputs": [
    {
     "name": "stdout",
     "output_type": "stream",
     "text": [
      "Разница лидерборда и локальной валидации: 0.0103\n"
     ]
    }
   ],
   "source": [
    "public_mean_harm_roc_auc = 0.705638\t\n",
    "print(f'Разница лидерборда и локальной валидации: {round(abs(public_mean_harm_roc_auc - mean_harm_roc_auc), 4)}')"
   ]
  },
  {
   "attachments": {},
   "cell_type": "markdown",
   "id": "407855e7",
   "metadata": {},
   "source": [
    "## 3.2. Валидация с кастомным решением атаки\n",
    "Предположим, что Вы атаковали отложенные на валидацию данные. Для оценки качества в задаче `Защита` сохраните атакованные данные и воспользуйтесь следующим методом: "
   ]
  },
  {
   "cell_type": "code",
   "execution_count": 12,
   "id": "1ed27dae",
   "metadata": {},
   "outputs": [
    {
     "name": "stderr",
     "output_type": "stream",
     "text": [
      "Global seed set to 20230206\n",
      "Global seed set to 20230206\n"
     ]
    },
    {
     "name": "stdout",
     "output_type": "stream",
     "text": [
      "Качество на локальной валидации: 0.7160533551043936\n"
     ]
    }
   ],
   "source": [
    "from fusionlib.validation import validate_model\n",
    "fraud_val_df_path = '/Users/xxx/Documents/Programming/vtb-data-fusion-2023/data/validation_fraud_transactions.csv'\n",
    "mean_harm_roc_auc = validate_model(reliable_predict, val_df_path, fraud_val_df_path, bins_path=bins_path, model_path=model_path, targets_path=targets_path)\n",
    "print(f'Качество на локальной валидации: {mean_harm_roc_auc}')"
   ]
  },
  {
   "cell_type": "code",
   "execution_count": null,
   "id": "c1f6da44",
   "metadata": {},
   "outputs": [],
   "source": []
  }
 ],
 "metadata": {
  "kernelspec": {
   "display_name": "data-fusion-env",
   "language": "python",
   "name": "python3"
  },
  "language_info": {
   "codemirror_mode": {
    "name": "ipython",
    "version": 3
   },
   "file_extension": ".py",
   "mimetype": "text/x-python",
   "name": "python",
   "nbconvert_exporter": "python",
   "pygments_lexer": "ipython3",
   "version": "3.10.7"
  },
  "vscode": {
   "interpreter": {
    "hash": "bf76417c1b4cd27bcaab021405742943ff2d8cf7fa7f605135072f06e0c77910"
   }
  }
 },
 "nbformat": 4,
 "nbformat_minor": 5
}
