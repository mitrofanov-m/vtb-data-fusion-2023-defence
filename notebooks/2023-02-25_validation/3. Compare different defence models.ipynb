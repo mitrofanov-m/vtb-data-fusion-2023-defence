{
 "cells": [
  {
   "cell_type": "code",
   "execution_count": 1,
   "id": "ec03da0f",
   "metadata": {},
   "outputs": [],
   "source": [
    "from pathlib import Path\n",
    "import numpy as np\n",
    "import pandas as pd\n",
    "from sklearn.metrics import roc_auc_score\n",
    "from sklearn.model_selection import StratifiedKFold\n",
    "\n",
    "import sys, os\n",
    "from tqdm import tqdm\n",
    "\n",
    "from pathlib import Path\n",
    "\n",
    "sys.path.insert(0, os.path.join(Path('.').resolve().parent.parent))\n",
    "\n",
    "from fusionlib.predicts import predict # Функция, позволяет получить предсказание нейронки.\n",
    "from fusionlib.check_budget import check_budget # функция проверки бюджета. Проверяйте допустимость решения до сабмита"
   ]
  },
  {
   "cell_type": "code",
   "execution_count": 2,
   "id": "9f6b4f46",
   "metadata": {},
   "outputs": [],
   "source": [
    "BUDGET = 10\n",
    "from fusionlib.utils import custom_read_csv\n",
    "from fusionlib.validation import validate_results\n",
    "import json\n",
    "\n",
    "def validate_model_(predict_method: object, validation_df_path: str, bins_path: str, \n",
    "                    model_path: str, targets_path: str, quantiles_path: str, random_seed=20230206, n_splits=5) -> float:\n",
    "    \n",
    "    # загрузка необходимых данных\n",
    "    targets = pd.read_csv(targets_path)\n",
    "    with open(quantiles_path, 'r') as f:\n",
    "        quantiles = json.load(f)\n",
    "    df_transactions = custom_read_csv(validation_df_path)\n",
    "    # получение скоров\n",
    "    result_clear = predict_method(validation_df_path, bins_path, model_path, random_seed=random_seed)\n",
    "    threshold = result_clear.target.max() / 2 \n",
    "    poor_user = result_clear.user_id.loc[result_clear.target.argmin()]\n",
    "    hero_user = result_clear.user_id.loc[result_clear.target.argmax()]\n",
    "\n",
    "\n",
    "    one_idx = result_clear.index[result_clear.target > threshold]  # Эти пользователи похожи на Героя\n",
    "    zero_idx = result_clear.index[result_clear.target <= threshold] # А эти на Неудачника\n",
    "\n",
    "    users = result_clear.user_id.values\n",
    "    one_users = users[one_idx]\n",
    "    zero_users = users[zero_idx]\n",
    "\n",
    "    for user in tqdm(users):\n",
    "        if user in one_users:\n",
    "            copy_from = poor_user # похожим на Героя скопируем 10 последних транзакций Неудачника\n",
    "        else:\n",
    "            copy_from = hero_user # А похожим на Неудачника наоборот\n",
    "\n",
    "        idx_to = df_transactions.index[df_transactions.user_id == user][-BUDGET:]\n",
    "        idx_from = df_transactions.index[df_transactions.user_id == copy_from][-BUDGET:]\n",
    "        sign_to = np.sign(df_transactions.loc[idx_to, \"transaction_amt\"].values)\n",
    "        sign_from = np.sign(df_transactions.loc[idx_from, \"transaction_amt\"].values)\n",
    "        sign_mask = (sign_to == sign_from)\n",
    "        df_transactions.loc[idx_to[sign_mask], \"mcc_code\"] = df_transactions.loc[idx_from[sign_mask], \"mcc_code\"].values\n",
    "        df_transactions.loc[idx_to[sign_mask], \"transaction_amt\"] = df_transactions.loc[idx_from[sign_mask], \"transaction_amt\"].values\n",
    "    \n",
    "    fraud_df = df_transactions\n",
    "    result_fraud = predict_method(fraud_df, bins_path, model_path, random_seed=random_seed)\n",
    "\n",
    "    result_clear = result_clear.rename(columns={'target': 'clear_proba'})\n",
    "    result_fraud = result_fraud.rename(columns={'target': 'fraud_proba'})\n",
    "    \n",
    "    mean_harm_roc_auc = validate_results(result_clear, result_fraud, targets, n_splits=n_splits)\n",
    "    return mean_harm_roc_auc"
   ]
  },
  {
   "cell_type": "code",
   "execution_count": 3,
   "id": "117994ec",
   "metadata": {},
   "outputs": [],
   "source": [
    "validation_df_path = '/Users/xxx/Documents/Programming/vtb-data-fusion-2023/vtb-data-fusion-2023-defence/data/validation_clear_transactions.csv'\n",
    "bins_path = \"/Users/xxx/Documents/Programming/vtb-data-fusion-2023/vtb-data-fusion-2023-defence/models/nn_bins.pickle\" # путь до файла с бинами после тренировки модели (nn_bins.pickle)\n",
    "model_path = \"/Users/xxx/Documents/Programming/vtb-data-fusion-2023/vtb-data-fusion-2023-defence/models/nn_weights.ckpt\" # путь до файла с весами нейронной сети (nn_weights.ckpt)\n",
    "quantiles_path = \"/Users/xxx/Documents/Programming/vtb-data-fusion-2023/vtb-data-fusion-2023-defence/misc/quantiles.json\" # путь до файла с квантилями для таргета (quantiles.pickle)\n",
    "targets_path = '/Users/xxx/Documents/Programming/vtb-data-fusion-2023/data/target_finetune.csv'\n"
   ]
  },
  {
   "cell_type": "code",
   "execution_count": 4,
   "id": "cc4186e4",
   "metadata": {},
   "outputs": [],
   "source": [
    "from fusionlib.predicts import reliable_predict"
   ]
  },
  {
   "cell_type": "code",
   "execution_count": 5,
   "id": "bce50afd",
   "metadata": {},
   "outputs": [
    {
     "name": "stderr",
     "output_type": "stream",
     "text": [
      "Global seed set to 20230206\n",
      "100%|██████████| 2124/2124 [00:34<00:00, 60.74it/s]\n",
      "Global seed set to 20230206\n"
     ]
    },
    {
     "name": "stdout",
     "output_type": "stream",
     "text": [
      "CPU times: user 9min 9s, sys: 1min 52s, total: 11min 2s\n",
      "Wall time: 6min 33s\n"
     ]
    }
   ],
   "source": [
    "%%time\n",
    "mean_harm_roc_auc = validate_model_(reliable_predict, validation_df_path, bins_path, model_path, targets_path, quantiles_path)"
   ]
  },
  {
   "cell_type": "code",
   "execution_count": 6,
   "id": "19734386",
   "metadata": {},
   "outputs": [
    {
     "name": "stdout",
     "output_type": "stream",
     "text": [
      "Разница лидерборда и локальной валидации: 0.0103\n"
     ]
    }
   ],
   "source": [
    "public_mean_harm_roc_auc = 0.705638\t\n",
    "print(f'Разница лидерборда и локальной валидации: {round(abs(public_mean_harm_roc_auc - mean_harm_roc_auc), 4)}')"
   ]
  },
  {
   "cell_type": "code",
   "execution_count": 1,
   "id": "beb455ac",
   "metadata": {},
   "outputs": [
    {
     "ename": "NameError",
     "evalue": "name 'mean_harm_roc_auc' is not defined",
     "output_type": "error",
     "traceback": [
      "\u001b[0;31m---------------------------------------------------------------------------\u001b[0m",
      "\u001b[0;31mNameError\u001b[0m                                 Traceback (most recent call last)",
      "Cell \u001b[0;32mIn[1], line 1\u001b[0m\n\u001b[0;32m----> 1\u001b[0m mean_harm_roc_auc\n",
      "\u001b[0;31mNameError\u001b[0m: name 'mean_harm_roc_auc' is not defined"
     ]
    }
   ],
   "source": [
    "mean_harm_roc_auc"
   ]
  },
  {
   "cell_type": "code",
   "execution_count": 9,
   "id": "ccb6c0de",
   "metadata": {},
   "outputs": [
    {
     "name": "stderr",
     "output_type": "stream",
     "text": [
      "Global seed set to 20230206\n",
      "100%|██████████| 2124/2124 [00:30<00:00, 68.72it/s]\n",
      "Global seed set to 20230206\n"
     ]
    },
    {
     "name": "stdout",
     "output_type": "stream",
     "text": [
      "CPU times: user 1min 27s, sys: 15.7 s, total: 1min 43s\n",
      "Wall time: 1min 17s\n"
     ]
    },
    {
     "data": {
      "text/plain": [
       "0.6981571189787755"
      ]
     },
     "execution_count": 9,
     "metadata": {},
     "output_type": "execute_result"
    }
   ],
   "source": [
    "%%time\n",
    "validate_model_(predict, validation_df_path, bins_path, model_path, targets_path, quantiles_path)"
   ]
  },
  {
   "cell_type": "code",
   "execution_count": null,
   "id": "8ca4f03a",
   "metadata": {},
   "outputs": [],
   "source": []
  },
  {
   "cell_type": "markdown",
   "id": "0ac95703",
   "metadata": {},
   "source": [
    " "
   ]
  }
 ],
 "metadata": {
  "kernelspec": {
   "display_name": "data-fusion-env",
   "language": "python",
   "name": "python3"
  },
  "language_info": {
   "codemirror_mode": {
    "name": "ipython",
    "version": 3
   },
   "file_extension": ".py",
   "mimetype": "text/x-python",
   "name": "python",
   "nbconvert_exporter": "python",
   "pygments_lexer": "ipython3",
   "version": "3.10.7"
  },
  "vscode": {
   "interpreter": {
    "hash": "bf76417c1b4cd27bcaab021405742943ff2d8cf7fa7f605135072f06e0c77910"
   }
  }
 },
 "nbformat": 4,
 "nbformat_minor": 5
}
