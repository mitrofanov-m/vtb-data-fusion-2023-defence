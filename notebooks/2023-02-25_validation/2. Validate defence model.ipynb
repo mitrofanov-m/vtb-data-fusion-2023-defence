{
 "cells": [
  {
   "cell_type": "code",
   "execution_count": 1,
   "id": "ec03da0f",
   "metadata": {},
   "outputs": [],
   "source": [
    "from pathlib import Path\n",
    "import numpy as np\n",
    "import pandas as pd\n",
    "from sklearn.metrics import roc_auc_score\n",
    "from sklearn.model_selection import StratifiedKFold\n",
    "\n",
    "import sys, os\n",
    "from pathlib import Path\n",
    "\n",
    "sys.path.insert(0, os.path.join(Path('.').resolve().parent.parent))\n",
    "\n",
    "from fusionlib.model import predict # Функция, позволяет получить предсказание нейронки.\n",
    "from fusionlib.check_budget import check_budget # функция проверки бюджета. Проверяйте допустимость решения до сабмита"
   ]
  },
  {
   "cell_type": "code",
   "execution_count": 2,
   "id": "cf5e98b9",
   "metadata": {},
   "outputs": [
    {
     "data": {
      "text/html": [
       "<div>\n",
       "<style scoped>\n",
       "    .dataframe tbody tr th:only-of-type {\n",
       "        vertical-align: middle;\n",
       "    }\n",
       "\n",
       "    .dataframe tbody tr th {\n",
       "        vertical-align: top;\n",
       "    }\n",
       "\n",
       "    .dataframe thead th {\n",
       "        text-align: right;\n",
       "    }\n",
       "</style>\n",
       "<table border=\"1\" class=\"dataframe\">\n",
       "  <thead>\n",
       "    <tr style=\"text-align: right;\">\n",
       "      <th></th>\n",
       "      <th>user_id</th>\n",
       "      <th>mcc_code</th>\n",
       "      <th>currency_rk</th>\n",
       "      <th>transaction_amt</th>\n",
       "      <th>transaction_dttm</th>\n",
       "    </tr>\n",
       "  </thead>\n",
       "  <tbody>\n",
       "    <tr>\n",
       "      <th>2123695</th>\n",
       "      <td>868878</td>\n",
       "      <td>5977</td>\n",
       "      <td>48</td>\n",
       "      <td>-4.504974</td>\n",
       "      <td>2020-10-31 12:20:28</td>\n",
       "    </tr>\n",
       "    <tr>\n",
       "      <th>2123696</th>\n",
       "      <td>868878</td>\n",
       "      <td>5411</td>\n",
       "      <td>48</td>\n",
       "      <td>-290.051450</td>\n",
       "      <td>2020-11-01 10:46:24</td>\n",
       "    </tr>\n",
       "    <tr>\n",
       "      <th>2123697</th>\n",
       "      <td>868878</td>\n",
       "      <td>6011</td>\n",
       "      <td>48</td>\n",
       "      <td>5304.162000</td>\n",
       "      <td>2020-11-01 10:53:18</td>\n",
       "    </tr>\n",
       "    <tr>\n",
       "      <th>2123698</th>\n",
       "      <td>868878</td>\n",
       "      <td>5039</td>\n",
       "      <td>48</td>\n",
       "      <td>-3614.711400</td>\n",
       "      <td>2020-11-02 16:45:54</td>\n",
       "    </tr>\n",
       "    <tr>\n",
       "      <th>2123699</th>\n",
       "      <td>868878</td>\n",
       "      <td>5039</td>\n",
       "      <td>48</td>\n",
       "      <td>-4592.269000</td>\n",
       "      <td>2020-11-16 17:36:50</td>\n",
       "    </tr>\n",
       "  </tbody>\n",
       "</table>\n",
       "</div>"
      ],
      "text/plain": [
       "         user_id  mcc_code  currency_rk  transaction_amt     transaction_dttm\n",
       "2123695   868878      5977           48        -4.504974  2020-10-31 12:20:28\n",
       "2123696   868878      5411           48      -290.051450  2020-11-01 10:46:24\n",
       "2123697   868878      6011           48      5304.162000  2020-11-01 10:53:18\n",
       "2123698   868878      5039           48     -3614.711400  2020-11-02 16:45:54\n",
       "2123699   868878      5039           48     -4592.269000  2020-11-16 17:36:50"
      ]
     },
     "execution_count": 2,
     "metadata": {},
     "output_type": "execute_result"
    }
   ],
   "source": [
    "clear_df = pd.read_csv('/Users/xxx/Documents/Programming/vtb-data-fusion-2023/vtb-data-fusion-2023-defence/data/validation_clear_transactions.csv')\n",
    "clear_df.tail(5)"
   ]
  },
  {
   "cell_type": "code",
   "execution_count": 3,
   "id": "f9fd7c7b",
   "metadata": {},
   "outputs": [
    {
     "data": {
      "text/html": [
       "<div>\n",
       "<style scoped>\n",
       "    .dataframe tbody tr th:only-of-type {\n",
       "        vertical-align: middle;\n",
       "    }\n",
       "\n",
       "    .dataframe tbody tr th {\n",
       "        vertical-align: top;\n",
       "    }\n",
       "\n",
       "    .dataframe thead th {\n",
       "        text-align: right;\n",
       "    }\n",
       "</style>\n",
       "<table border=\"1\" class=\"dataframe\">\n",
       "  <thead>\n",
       "    <tr style=\"text-align: right;\">\n",
       "      <th></th>\n",
       "      <th>user_id</th>\n",
       "      <th>mcc_code</th>\n",
       "      <th>currency_rk</th>\n",
       "      <th>transaction_amt</th>\n",
       "      <th>transaction_dttm</th>\n",
       "    </tr>\n",
       "  </thead>\n",
       "  <tbody>\n",
       "    <tr>\n",
       "      <th>637195</th>\n",
       "      <td>868878</td>\n",
       "      <td>5411</td>\n",
       "      <td>48</td>\n",
       "      <td>-132.14314</td>\n",
       "      <td>2020-10-31 12:20:28</td>\n",
       "    </tr>\n",
       "    <tr>\n",
       "      <th>637196</th>\n",
       "      <td>868878</td>\n",
       "      <td>5699</td>\n",
       "      <td>48</td>\n",
       "      <td>-420.82767</td>\n",
       "      <td>2020-11-01 10:46:24</td>\n",
       "    </tr>\n",
       "    <tr>\n",
       "      <th>637197</th>\n",
       "      <td>868878</td>\n",
       "      <td>6011</td>\n",
       "      <td>48</td>\n",
       "      <td>5304.16200</td>\n",
       "      <td>2020-11-01 10:53:18</td>\n",
       "    </tr>\n",
       "    <tr>\n",
       "      <th>637198</th>\n",
       "      <td>868878</td>\n",
       "      <td>5691</td>\n",
       "      <td>48</td>\n",
       "      <td>-1392.58920</td>\n",
       "      <td>2020-11-02 16:45:54</td>\n",
       "    </tr>\n",
       "    <tr>\n",
       "      <th>637199</th>\n",
       "      <td>868878</td>\n",
       "      <td>5651</td>\n",
       "      <td>48</td>\n",
       "      <td>-1497.73680</td>\n",
       "      <td>2020-11-16 17:36:50</td>\n",
       "    </tr>\n",
       "  </tbody>\n",
       "</table>\n",
       "</div>"
      ],
      "text/plain": [
       "        user_id  mcc_code  currency_rk  transaction_amt     transaction_dttm\n",
       "637195   868878      5411           48       -132.14314  2020-10-31 12:20:28\n",
       "637196   868878      5699           48       -420.82767  2020-11-01 10:46:24\n",
       "637197   868878      6011           48       5304.16200  2020-11-01 10:53:18\n",
       "637198   868878      5691           48      -1392.58920  2020-11-02 16:45:54\n",
       "637199   868878      5651           48      -1497.73680  2020-11-16 17:36:50"
      ]
     },
     "execution_count": 3,
     "metadata": {},
     "output_type": "execute_result"
    }
   ],
   "source": [
    "fraud_df = pd.read_csv('/Users/xxx/Documents/Programming/vtb-data-fusion-2023/vtb-data-fusion-2023-defence/data/validation_fraud_transactions.csv')\n",
    "fraud_df.tail(5)"
   ]
  },
  {
   "cell_type": "markdown",
   "id": "0ac95703",
   "metadata": {},
   "source": [
    " "
   ]
  },
  {
   "cell_type": "code",
   "execution_count": 4,
   "id": "70500ca2",
   "metadata": {},
   "outputs": [],
   "source": [
    "clear_df_path = '/Users/xxx/Documents/Programming/vtb-data-fusion-2023/vtb-data-fusion-2023-defence/data/validation_clear_transactions.csv'\n",
    "fraud_df_path = '/Users/xxx/Documents/Programming/vtb-data-fusion-2023/vtb-data-fusion-2023-defence/data/validation_fraud_transactions.csv'\n",
    "bins_path = \"/Users/xxx/Documents/Programming/vtb-data-fusion-2023/vtb-data-fusion-2023-defence/models/nn_bins.pickle\" # путь до файла с бинами после тренировки модели (nn_bins.pickle)\n",
    "model_path = \"/Users/xxx/Documents/Programming/vtb-data-fusion-2023/vtb-data-fusion-2023-defence/models/nn_weights.ckpt\" # путь до файла с весами нейронной сети (nn_weights.ckpt)\n",
    "quantiles_path = \"/Users/xxx/Documents/Programming/vtb-data-fusion-2023/vtb-data-fusion-2023-defence/misc/quantiles.json\" # путь до файла с квантилями для таргета (quantiles.pickle)\n",
    "BUDGET = 10 # разрешенное количество изменений транзакций для каждого пользователя"
   ]
  },
  {
   "cell_type": "code",
   "execution_count": 5,
   "id": "56fe7310",
   "metadata": {},
   "outputs": [
    {
     "name": "stderr",
     "output_type": "stream",
     "text": [
      "Global seed set to 20230206\n"
     ]
    },
    {
     "name": "stdout",
     "output_type": "stream",
     "text": [
      "CPU times: user 31 s, sys: 6.79 s, total: 37.8 s\n",
      "Wall time: 25.2 s\n"
     ]
    }
   ],
   "source": [
    "%%time\n",
    "# у нас нет разметки для тех транзакций, которые мы атакуем - но у нас есть модель.\n",
    "# Давайте посчитаем вероятность того, что пользователь принадлежит к классу 1\n",
    "result_clear = predict(clear_df_path, bins_path, model_path, random_seed=20230206)\n",
    "result_clear = result_clear.rename(columns={'target': 'clear_proba'})"
   ]
  },
  {
   "cell_type": "code",
   "execution_count": 6,
   "id": "e726cf3a",
   "metadata": {},
   "outputs": [
    {
     "name": "stderr",
     "output_type": "stream",
     "text": [
      "Global seed set to 20230206\n"
     ]
    },
    {
     "name": "stdout",
     "output_type": "stream",
     "text": [
      "CPU times: user 29.7 s, sys: 6.05 s, total: 35.8 s\n",
      "Wall time: 21.5 s\n"
     ]
    }
   ],
   "source": [
    "%%time\n",
    "result_fraud = predict(fraud_df_path, bins_path, model_path, random_seed=20230206)\n",
    "result_fraud = result_fraud.rename(columns={'target': 'fraud_proba'})"
   ]
  },
  {
   "cell_type": "code",
   "execution_count": 17,
   "id": "95899e1d",
   "metadata": {},
   "outputs": [
    {
     "data": {
      "text/html": [
       "<div>\n",
       "<style scoped>\n",
       "    .dataframe tbody tr th:only-of-type {\n",
       "        vertical-align: middle;\n",
       "    }\n",
       "\n",
       "    .dataframe tbody tr th {\n",
       "        vertical-align: top;\n",
       "    }\n",
       "\n",
       "    .dataframe thead th {\n",
       "        text-align: right;\n",
       "    }\n",
       "</style>\n",
       "<table border=\"1\" class=\"dataframe\">\n",
       "  <thead>\n",
       "    <tr style=\"text-align: right;\">\n",
       "      <th></th>\n",
       "      <th>user_id</th>\n",
       "      <th>clear_proba</th>\n",
       "      <th>fraud_proba</th>\n",
       "      <th>target</th>\n",
       "    </tr>\n",
       "  </thead>\n",
       "  <tbody>\n",
       "    <tr>\n",
       "      <th>0</th>\n",
       "      <td>626</td>\n",
       "      <td>0.187110</td>\n",
       "      <td>0.314553</td>\n",
       "      <td>0</td>\n",
       "    </tr>\n",
       "    <tr>\n",
       "      <th>1</th>\n",
       "      <td>925</td>\n",
       "      <td>0.003806</td>\n",
       "      <td>0.011549</td>\n",
       "      <td>0</td>\n",
       "    </tr>\n",
       "    <tr>\n",
       "      <th>2</th>\n",
       "      <td>939</td>\n",
       "      <td>0.006336</td>\n",
       "      <td>0.019569</td>\n",
       "      <td>0</td>\n",
       "    </tr>\n",
       "    <tr>\n",
       "      <th>3</th>\n",
       "      <td>1158</td>\n",
       "      <td>0.060767</td>\n",
       "      <td>0.125721</td>\n",
       "      <td>0</td>\n",
       "    </tr>\n",
       "    <tr>\n",
       "      <th>4</th>\n",
       "      <td>1259</td>\n",
       "      <td>0.040798</td>\n",
       "      <td>0.121531</td>\n",
       "      <td>0</td>\n",
       "    </tr>\n",
       "  </tbody>\n",
       "</table>\n",
       "</div>"
      ],
      "text/plain": [
       "   user_id  clear_proba  fraud_proba  target\n",
       "0      626     0.187110     0.314553       0\n",
       "1      925     0.003806     0.011549       0\n",
       "2      939     0.006336     0.019569       0\n",
       "3     1158     0.060767     0.125721       0\n",
       "4     1259     0.040798     0.121531       0"
      ]
     },
     "execution_count": 17,
     "metadata": {},
     "output_type": "execute_result"
    }
   ],
   "source": [
    "targets_path = '/Users/xxx/Documents/Programming/vtb-data-fusion-2023/data/target_finetune.csv'\n",
    "targets = pd.read_csv(targets_path)\n",
    "\n",
    "result = result_clear.merge(result_fraud, how='inner', left_on='user_id', right_on='user_id')\n",
    "result = result.merge(targets, how='left', left_on='user_id', right_on='user_id')\n",
    "result.head()"
   ]
  },
  {
   "cell_type": "code",
   "execution_count": 8,
   "id": "710b9b55",
   "metadata": {},
   "outputs": [],
   "source": [
    "roc_aucs = []\n",
    "skf = StratifiedKFold(n_splits=5)\n",
    "for i, (train_index, test_index) in enumerate(skf.split(result, result.target)):\n",
    "    test = result.iloc[test_index]\n",
    "    roc_auc_original = roc_auc_score(test.target, test.clear_proba)\n",
    "    roc_auc_attacked = roc_auc_score(test.target, test.fraud_proba)\n",
    "    roc_auc = 2 / (1 / roc_auc_original  + 1 / roc_auc_attacked)\n",
    "    roc_aucs.append(roc_auc)"
   ]
  },
  {
   "cell_type": "code",
   "execution_count": 9,
   "id": "f72b91dd",
   "metadata": {},
   "outputs": [
    {
     "data": {
      "text/plain": [
       "0.7052626665791947"
      ]
     },
     "execution_count": 9,
     "metadata": {},
     "output_type": "execute_result"
    }
   ],
   "source": [
    "np.mean(roc_aucs)"
   ]
  },
  {
   "cell_type": "raw",
   "id": "cc096420",
   "metadata": {},
   "source": [
    "def convert_different_inputs_to_df(method_input: (str | pd.DataFrame)) -> pd.DataFrame:\n",
    "    if isinstance(method_input, str):\n",
    "        object = pd.read_csv(method_input)\n",
    "    elif isinstance(method_input, pd.DataFrame):\n",
    "        object = method_input\n",
    "    return object\n",
    "\n",
    "def validate_results(result_clear: (str | pd.DataFrame), \n",
    "                   result_fraud: (str | pd.DataFrame), \n",
    "                   targets: (str | pd.DataFrame), n_splits=5) -> float:\n",
    "    \n",
    "    result_clear = convert_different_inputs_to_df(result_clear)\n",
    "    result_fraud = convert_different_inputs_to_df(result_fraud)\n",
    "    targets = convert_different_inputs_to_df(targets)\n",
    "    result = result_clear.merge(result_fraud, how='inner', left_on='user_id', right_on='user_id')\n",
    "    result = result.merge(targets, how='left', left_on='user_id', right_on='user_id')\n",
    "    roc_aucs = []\n",
    "    skf = StratifiedKFold(n_splits=n_splits, random_state=42, shuffle=True)\n",
    "    for i, (_, test_index) in enumerate(skf.split(result, result.target)):\n",
    "        test = result.iloc[test_index]\n",
    "        roc_auc_original = roc_auc_score(test.target, test.clear_proba)\n",
    "        roc_auc_attacked = roc_auc_score(test.target, test.fraud_proba)\n",
    "        roc_auc = 2 / (1 / roc_auc_original  + 1 / roc_auc_attacked)\n",
    "        print(f'Validation iter={i}, roc_auc={roc_auc}')\n",
    "        roc_aucs.append(roc_auc)\n",
    "    \n",
    "    return np.mean(roc_aucs)"
   ]
  },
  {
   "cell_type": "code",
   "execution_count": null,
   "id": "0f76e273",
   "metadata": {},
   "outputs": [],
   "source": []
  },
  {
   "cell_type": "code",
   "execution_count": 10,
   "id": "b9bd5ea5",
   "metadata": {},
   "outputs": [
    {
     "name": "stdout",
     "output_type": "stream",
     "text": [
      "Validation iter=0, roc_auc=0.7168839395598398\n",
      "Validation iter=1, roc_auc=0.84083689352608\n",
      "Validation iter=2, roc_auc=0.6489882309306312\n",
      "Validation iter=3, roc_auc=0.6169727769969544\n",
      "Validation iter=4, roc_auc=0.6644221565017926\n",
      "-------------------- result -------------------- \n",
      "mean_harm_roc_auc=0.6976207995030597\n"
     ]
    }
   ],
   "source": [
    "from fusionlib.validation import validate_results\n",
    "mean_harm_roc_auc = validate_results(result_clear, result_fraud, targets, n_splits=5)\n",
    "print('-------------------- result -------------------- ')\n",
    "print(f'mean_harm_roc_auc={mean_harm_roc_auc}')"
   ]
  },
  {
   "cell_type": "code",
   "execution_count": 13,
   "id": "7c57050f",
   "metadata": {},
   "outputs": [
    {
     "name": "stdout",
     "output_type": "stream",
     "text": [
      "Разница лидерборда и локальной валидации: 0.0033072004969403324\n"
     ]
    }
   ],
   "source": [
    "public_mean_harm_roc_auc = 0.700928\n",
    "print(f'Разница лидерборда и локальной валидации: {public_mean_harm_roc_auc - mean_harm_roc_auc}')"
   ]
  },
  {
   "cell_type": "code",
   "execution_count": 12,
   "id": "e7cf2698",
   "metadata": {},
   "outputs": [
    {
     "name": "stdout",
     "output_type": "stream",
     "text": [
      "Validation iter=0, roc_auc=0.7168839395598398\n",
      "Validation iter=1, roc_auc=0.84083689352608\n",
      "Validation iter=2, roc_auc=0.6489882309306312\n",
      "Validation iter=3, roc_auc=0.6169727769969544\n",
      "Validation iter=4, roc_auc=0.6644221565017926\n"
     ]
    },
    {
     "data": {
      "text/plain": [
       "0.6976207995030597"
      ]
     },
     "execution_count": 12,
     "metadata": {},
     "output_type": "execute_result"
    }
   ],
   "source": [
    "# опционально добавил возможность использовать как pd.DataFrame, так и уже сохраненные csv\n",
    "validate_results(result_clear, result_fraud, '/Users/xxx/Documents/Programming/vtb-data-fusion-2023/data/target_finetune.csv')"
   ]
  },
  {
   "attachments": {},
   "cell_type": "markdown",
   "id": "8762569b",
   "metadata": {},
   "source": [
    "# Метод скоринга кастомных predict методов\n",
    "\n",
    "Чтобы снизить порог входа для данной задачи, был разработан метод оценки модели защиты, который позволяет не углубляться в механику атаки. Для оценки качества очередной версии своей модели необходимо лишь передать predict метод в соответствующую функцию."
   ]
  },
  {
   "cell_type": "code",
   "execution_count": 16,
   "id": "6f4fa9a9",
   "metadata": {},
   "outputs": [],
   "source": [
    "def validate_model(predict_method: object, clear_df_path: str, \n",
    "                   fraud_df_path: str, bins_path: str, model_path: str, targets_path: str, random_seed=20230206, n_splits=5) -> float:\n",
    "    # загрузка выбранных методов\n",
    "    targets = pd.read_csv(targets_path)\n",
    "    # получение скоров\n",
    "    result_clear = predict_method(clear_df_path, bins_path, model_path, random_seed=random_seed)\n",
    "    result_fraud = predict_method(fraud_df_path, bins_path, model_path, random_seed=random_seed)\n",
    "\n",
    "    result_clear = result_clear.rename(columns={'target': 'clear_proba'})\n",
    "    result_fraud = result_fraud.rename(columns={'target': 'fraud_proba'})\n",
    "    \n",
    "    mean_harm_roc_auc = validate_results(result_clear, result_fraud, targets, n_splits=n_splits)\n",
    "    return mean_harm_roc_auc"
   ]
  },
  {
   "cell_type": "code",
   "execution_count": 18,
   "id": "53289fce",
   "metadata": {},
   "outputs": [
    {
     "name": "stderr",
     "output_type": "stream",
     "text": [
      "Global seed set to 20230206\n",
      "Global seed set to 20230206\n"
     ]
    },
    {
     "name": "stdout",
     "output_type": "stream",
     "text": [
      "Validation iter=0, roc_auc=0.7168839395598398\n",
      "Validation iter=1, roc_auc=0.84083689352608\n",
      "Validation iter=2, roc_auc=0.6489882309306312\n",
      "Validation iter=3, roc_auc=0.6169727769969544\n",
      "Validation iter=4, roc_auc=0.6644221565017926\n"
     ]
    },
    {
     "data": {
      "text/plain": [
       "0.6976207995030597"
      ]
     },
     "execution_count": 18,
     "metadata": {},
     "output_type": "execute_result"
    }
   ],
   "source": [
    "validate_model(predict, clear_df_path, fraud_df_path, bins_path=bins_path, model_path=model_path, targets_path=targets_path)"
   ]
  },
  {
   "cell_type": "code",
   "execution_count": 14,
   "id": "e5d4b401",
   "metadata": {},
   "outputs": [],
   "source": [
    "source_file = clear_df_path\n",
    "df_transactions = (\n",
    "        pd.read_csv(\n",
    "            source_file,\n",
    "            parse_dates=[\"transaction_dttm\"],\n",
    "            dtype={\"user_id\": int, \"mcc_code\": int, \"currency_rk\": int, \"transaction_amt\": float},\n",
    "        )\n",
    "        .dropna()\n",
    "        .assign(\n",
    "            hour=lambda x: x.transaction_dttm.dt.hour,\n",
    "            day=lambda x: x.transaction_dttm.dt.dayofweek,\n",
    "            month=lambda x: x.transaction_dttm.dt.month,\n",
    "            number_day=lambda x: x.transaction_dttm.dt.day,\n",
    "        )\n",
    "    )"
   ]
  },
  {
   "cell_type": "code",
   "execution_count": 15,
   "id": "372cc32a",
   "metadata": {},
   "outputs": [
    {
     "data": {
      "text/html": [
       "<div>\n",
       "<style scoped>\n",
       "    .dataframe tbody tr th:only-of-type {\n",
       "        vertical-align: middle;\n",
       "    }\n",
       "\n",
       "    .dataframe tbody tr th {\n",
       "        vertical-align: top;\n",
       "    }\n",
       "\n",
       "    .dataframe thead th {\n",
       "        text-align: right;\n",
       "    }\n",
       "</style>\n",
       "<table border=\"1\" class=\"dataframe\">\n",
       "  <thead>\n",
       "    <tr style=\"text-align: right;\">\n",
       "      <th></th>\n",
       "      <th>user_id</th>\n",
       "      <th>mcc_code</th>\n",
       "      <th>currency_rk</th>\n",
       "      <th>transaction_amt</th>\n",
       "      <th>transaction_dttm</th>\n",
       "      <th>hour</th>\n",
       "      <th>day</th>\n",
       "      <th>month</th>\n",
       "      <th>number_day</th>\n",
       "    </tr>\n",
       "  </thead>\n",
       "  <tbody>\n",
       "    <tr>\n",
       "      <th>1500</th>\n",
       "      <td>626</td>\n",
       "      <td>5912</td>\n",
       "      <td>48</td>\n",
       "      <td>-586.027470</td>\n",
       "      <td>2021-02-22 09:40:53</td>\n",
       "      <td>9</td>\n",
       "      <td>0</td>\n",
       "      <td>2</td>\n",
       "      <td>22</td>\n",
       "    </tr>\n",
       "    <tr>\n",
       "      <th>1501</th>\n",
       "      <td>626</td>\n",
       "      <td>5411</td>\n",
       "      <td>48</td>\n",
       "      <td>-50.992100</td>\n",
       "      <td>2021-02-22 19:56:32</td>\n",
       "      <td>19</td>\n",
       "      <td>0</td>\n",
       "      <td>2</td>\n",
       "      <td>22</td>\n",
       "    </tr>\n",
       "    <tr>\n",
       "      <th>1502</th>\n",
       "      <td>626</td>\n",
       "      <td>6011</td>\n",
       "      <td>48</td>\n",
       "      <td>-3318.621800</td>\n",
       "      <td>2021-02-23 06:29:28</td>\n",
       "      <td>6</td>\n",
       "      <td>1</td>\n",
       "      <td>2</td>\n",
       "      <td>23</td>\n",
       "    </tr>\n",
       "    <tr>\n",
       "      <th>1503</th>\n",
       "      <td>626</td>\n",
       "      <td>5411</td>\n",
       "      <td>48</td>\n",
       "      <td>-582.319640</td>\n",
       "      <td>2021-02-23 06:35:36</td>\n",
       "      <td>6</td>\n",
       "      <td>1</td>\n",
       "      <td>2</td>\n",
       "      <td>23</td>\n",
       "    </tr>\n",
       "    <tr>\n",
       "      <th>1504</th>\n",
       "      <td>626</td>\n",
       "      <td>5411</td>\n",
       "      <td>48</td>\n",
       "      <td>-461.845340</td>\n",
       "      <td>2021-02-23 19:31:53</td>\n",
       "      <td>19</td>\n",
       "      <td>1</td>\n",
       "      <td>2</td>\n",
       "      <td>23</td>\n",
       "    </tr>\n",
       "    <tr>\n",
       "      <th>...</th>\n",
       "      <td>...</td>\n",
       "      <td>...</td>\n",
       "      <td>...</td>\n",
       "      <td>...</td>\n",
       "      <td>...</td>\n",
       "      <td>...</td>\n",
       "      <td>...</td>\n",
       "      <td>...</td>\n",
       "      <td>...</td>\n",
       "    </tr>\n",
       "    <tr>\n",
       "      <th>2123695</th>\n",
       "      <td>868878</td>\n",
       "      <td>5977</td>\n",
       "      <td>48</td>\n",
       "      <td>-4.504974</td>\n",
       "      <td>2020-10-31 12:20:28</td>\n",
       "      <td>12</td>\n",
       "      <td>5</td>\n",
       "      <td>10</td>\n",
       "      <td>31</td>\n",
       "    </tr>\n",
       "    <tr>\n",
       "      <th>2123696</th>\n",
       "      <td>868878</td>\n",
       "      <td>5411</td>\n",
       "      <td>48</td>\n",
       "      <td>-290.051450</td>\n",
       "      <td>2020-11-01 10:46:24</td>\n",
       "      <td>10</td>\n",
       "      <td>6</td>\n",
       "      <td>11</td>\n",
       "      <td>1</td>\n",
       "    </tr>\n",
       "    <tr>\n",
       "      <th>2123697</th>\n",
       "      <td>868878</td>\n",
       "      <td>6011</td>\n",
       "      <td>48</td>\n",
       "      <td>5304.162000</td>\n",
       "      <td>2020-11-01 10:53:18</td>\n",
       "      <td>10</td>\n",
       "      <td>6</td>\n",
       "      <td>11</td>\n",
       "      <td>1</td>\n",
       "    </tr>\n",
       "    <tr>\n",
       "      <th>2123698</th>\n",
       "      <td>868878</td>\n",
       "      <td>5039</td>\n",
       "      <td>48</td>\n",
       "      <td>-3614.711400</td>\n",
       "      <td>2020-11-02 16:45:54</td>\n",
       "      <td>16</td>\n",
       "      <td>0</td>\n",
       "      <td>11</td>\n",
       "      <td>2</td>\n",
       "    </tr>\n",
       "    <tr>\n",
       "      <th>2123699</th>\n",
       "      <td>868878</td>\n",
       "      <td>5039</td>\n",
       "      <td>48</td>\n",
       "      <td>-4592.269000</td>\n",
       "      <td>2020-11-16 17:36:50</td>\n",
       "      <td>17</td>\n",
       "      <td>0</td>\n",
       "      <td>11</td>\n",
       "      <td>16</td>\n",
       "    </tr>\n",
       "  </tbody>\n",
       "</table>\n",
       "<p>637200 rows × 9 columns</p>\n",
       "</div>"
      ],
      "text/plain": [
       "         user_id  mcc_code  currency_rk  transaction_amt    transaction_dttm  \\\n",
       "1500         626      5912           48      -586.027470 2021-02-22 09:40:53   \n",
       "1501         626      5411           48       -50.992100 2021-02-22 19:56:32   \n",
       "1502         626      6011           48     -3318.621800 2021-02-23 06:29:28   \n",
       "1503         626      5411           48      -582.319640 2021-02-23 06:35:36   \n",
       "1504         626      5411           48      -461.845340 2021-02-23 19:31:53   \n",
       "...          ...       ...          ...              ...                 ...   \n",
       "2123695   868878      5977           48        -4.504974 2020-10-31 12:20:28   \n",
       "2123696   868878      5411           48      -290.051450 2020-11-01 10:46:24   \n",
       "2123697   868878      6011           48      5304.162000 2020-11-01 10:53:18   \n",
       "2123698   868878      5039           48     -3614.711400 2020-11-02 16:45:54   \n",
       "2123699   868878      5039           48     -4592.269000 2020-11-16 17:36:50   \n",
       "\n",
       "         hour  day  month  number_day  \n",
       "1500        9    0      2          22  \n",
       "1501       19    0      2          22  \n",
       "1502        6    1      2          23  \n",
       "1503        6    1      2          23  \n",
       "1504       19    1      2          23  \n",
       "...       ...  ...    ...         ...  \n",
       "2123695    12    5     10          31  \n",
       "2123696    10    6     11           1  \n",
       "2123697    10    6     11           1  \n",
       "2123698    16    0     11           2  \n",
       "2123699    17    0     11          16  \n",
       "\n",
       "[637200 rows x 9 columns]"
      ]
     },
     "execution_count": 15,
     "metadata": {},
     "output_type": "execute_result"
    }
   ],
   "source": [
    "df_transactions"
   ]
  },
  {
   "cell_type": "code",
   "execution_count": null,
   "id": "6800e036",
   "metadata": {},
   "outputs": [],
   "source": []
  }
 ],
 "metadata": {
  "kernelspec": {
   "display_name": "data-fusion-env",
   "language": "python",
   "name": "python3"
  },
  "language_info": {
   "codemirror_mode": {
    "name": "ipython",
    "version": 3
   },
   "file_extension": ".py",
   "mimetype": "text/x-python",
   "name": "python",
   "nbconvert_exporter": "python",
   "pygments_lexer": "ipython3",
   "version": "3.10.7"
  },
  "vscode": {
   "interpreter": {
    "hash": "bf76417c1b4cd27bcaab021405742943ff2d8cf7fa7f605135072f06e0c77910"
   }
  }
 },
 "nbformat": 4,
 "nbformat_minor": 5
}
