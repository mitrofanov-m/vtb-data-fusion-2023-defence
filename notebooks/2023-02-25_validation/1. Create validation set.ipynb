{
 "cells": [
  {
   "cell_type": "code",
   "execution_count": 1,
   "id": "ec03da0f",
   "metadata": {},
   "outputs": [],
   "source": [
    "import json\n",
    "from pathlib import Path\n",
    "import numpy as np\n",
    "import pandas as pd\n",
    "from tqdm import tqdm\n",
    "import random\n",
    "from sklearn.model_selection import GroupShuffleSplit \n",
    "\n",
    "import sys, os\n",
    "from pathlib import Path\n",
    "\n",
    "sys.path.insert(0, os.path.join(Path('.').resolve().parent.parent))\n",
    "\n",
    "from fusionlib.model import predict # Функция, позволяет получить предсказание нейронки.\n",
    "from fusionlib.check_budget import check_budget # функция проверки бюджета. Проверяйте допустимость решения до сабмита"
   ]
  },
  {
   "cell_type": "code",
   "execution_count": 2,
   "id": "ee7e9f78",
   "metadata": {},
   "outputs": [
    {
     "data": {
      "text/plain": [
       "7080"
      ]
     },
     "execution_count": 2,
     "metadata": {},
     "output_type": "execute_result"
    }
   ],
   "source": [
    "df = pd.read_csv('/Users/xxx/Documents/Programming/vtb-data-fusion-2023/data/transactions_finetune.csv')\n",
    "df.user_id.nunique()"
   ]
  },
  {
   "cell_type": "code",
   "execution_count": 10,
   "id": "128f4805",
   "metadata": {},
   "outputs": [],
   "source": [
    "targets = pd.read_csv('/Users/xxx/Documents/Programming/vtb-data-fusion-2023/data/target_finetune.csv')\n"
   ]
  },
  {
   "cell_type": "code",
   "execution_count": 12,
   "id": "6fc59d8c",
   "metadata": {},
   "outputs": [
    {
     "data": {
      "text/plain": [
       "0    6818\n",
       "1     262\n",
       "Name: target, dtype: int64"
      ]
     },
     "execution_count": 12,
     "metadata": {},
     "output_type": "execute_result"
    }
   ],
   "source": [
    "targets.target.value_counts()"
   ]
  },
  {
   "cell_type": "raw",
   "id": "0357c2fc",
   "metadata": {},
   "source": [
    "targets = df[['user_id']].merge(targets, how='left', left_on='user_id', right_on='user_id')"
   ]
  },
  {
   "cell_type": "code",
   "execution_count": 13,
   "id": "d45a317a",
   "metadata": {},
   "outputs": [],
   "source": [
    "from sklearn.model_selection import StratifiedShuffleSplit\n",
    "# cv = StratifiedGroupKFold(n_splits=3, shuffle=True)\n",
    "# train_idxs, test_idxs = next(cv.split(df, targets, groups=df['user_id']))\n",
    "\n",
    "splitter = StratifiedShuffleSplit(test_size=.3, n_splits=1, random_state = 7)\n",
    "split = splitter.split(targets, targets.target)\n",
    "train_inds, test_inds = next(split)\n",
    "\n",
    "test_targets = targets.iloc[test_inds]\n",
    "test_user_id_set = set(test_targets.user_id.unique())\n",
    "test = df[df.user_id.apply(lambda id: id in test_user_id_set)]"
   ]
  },
  {
   "cell_type": "code",
   "execution_count": 20,
   "id": "d3b7011b",
   "metadata": {},
   "outputs": [],
   "source": [
    "assert train.user_id.nunique() + test.user_id.nunique() == df.user_id.nunique()"
   ]
  },
  {
   "cell_type": "code",
   "execution_count": 29,
   "id": "cf5e98b9",
   "metadata": {},
   "outputs": [],
   "source": [
    "test.to_csv('/Users/xxx/Documents/Programming/vtb-data-fusion-2023/vtb-data-fusion-2023-defence/data/validation_clear_transactions.csv', index_label=False)"
   ]
  },
  {
   "cell_type": "markdown",
   "id": "0ac95703",
   "metadata": {},
   "source": [
    " "
   ]
  },
  {
   "cell_type": "markdown",
   "id": "fc914f3d",
   "metadata": {},
   "source": [
    "# Создание атакованных валидационных данных"
   ]
  },
  {
   "cell_type": "code",
   "execution_count": 30,
   "id": "a59aa70c",
   "metadata": {},
   "outputs": [],
   "source": [
    "df = test"
   ]
  },
  {
   "cell_type": "code",
   "execution_count": 31,
   "id": "70500ca2",
   "metadata": {},
   "outputs": [],
   "source": [
    "validation_path = '/Users/xxx/Documents/Programming/vtb-data-fusion-2023/vtb-data-fusion-2023-defence/data/validation_clear_transactions.csv'\n",
    "transactions_path = validation_path\n",
    "bins_path = \"/Users/xxx/Documents/Programming/vtb-data-fusion-2023/vtb-data-fusion-2023-defence/models/nn_bins.pickle\" # путь до файла с бинами после тренировки модели (nn_bins.pickle)\n",
    "model_path = \"/Users/xxx/Documents/Programming/vtb-data-fusion-2023/vtb-data-fusion-2023-defence/models/nn_weights.ckpt\" # путь до файла с весами нейронной сети (nn_weights.ckpt)\n",
    "quantiles_path = \"/Users/xxx/Documents/Programming/vtb-data-fusion-2023/vtb-data-fusion-2023-defence/misc/quantiles.json\" # путь до файла с квантилями для таргета (quantiles.pickle)\n",
    "BUDGET = 10 # разрешенное количество изменений транзакций для каждого пользователя"
   ]
  },
  {
   "cell_type": "code",
   "execution_count": 32,
   "id": "56fe7310",
   "metadata": {},
   "outputs": [
    {
     "name": "stderr",
     "output_type": "stream",
     "text": [
      "Global seed set to 20230206\n"
     ]
    },
    {
     "name": "stdout",
     "output_type": "stream",
     "text": [
      "CPU times: user 31.9 s, sys: 6.57 s, total: 38.5 s\n",
      "Wall time: 23.1 s\n"
     ]
    },
    {
     "data": {
      "text/html": [
       "<div>\n",
       "<style scoped>\n",
       "    .dataframe tbody tr th:only-of-type {\n",
       "        vertical-align: middle;\n",
       "    }\n",
       "\n",
       "    .dataframe tbody tr th {\n",
       "        vertical-align: top;\n",
       "    }\n",
       "\n",
       "    .dataframe thead th {\n",
       "        text-align: right;\n",
       "    }\n",
       "</style>\n",
       "<table border=\"1\" class=\"dataframe\">\n",
       "  <thead>\n",
       "    <tr style=\"text-align: right;\">\n",
       "      <th></th>\n",
       "      <th>user_id</th>\n",
       "      <th>target</th>\n",
       "    </tr>\n",
       "  </thead>\n",
       "  <tbody>\n",
       "    <tr>\n",
       "      <th>0</th>\n",
       "      <td>626</td>\n",
       "      <td>0.187110</td>\n",
       "    </tr>\n",
       "    <tr>\n",
       "      <th>1</th>\n",
       "      <td>925</td>\n",
       "      <td>0.003806</td>\n",
       "    </tr>\n",
       "    <tr>\n",
       "      <th>2</th>\n",
       "      <td>939</td>\n",
       "      <td>0.006336</td>\n",
       "    </tr>\n",
       "    <tr>\n",
       "      <th>3</th>\n",
       "      <td>1158</td>\n",
       "      <td>0.060767</td>\n",
       "    </tr>\n",
       "    <tr>\n",
       "      <th>4</th>\n",
       "      <td>1259</td>\n",
       "      <td>0.040798</td>\n",
       "    </tr>\n",
       "  </tbody>\n",
       "</table>\n",
       "</div>"
      ],
      "text/plain": [
       "   user_id    target\n",
       "0      626  0.187110\n",
       "1      925  0.003806\n",
       "2      939  0.006336\n",
       "3     1158  0.060767\n",
       "4     1259  0.040798"
      ]
     },
     "execution_count": 32,
     "metadata": {},
     "output_type": "execute_result"
    }
   ],
   "source": [
    "%%time\n",
    "# у нас нет разметки для тех транзакций, которые мы атакуем - но у нас есть модель.\n",
    "# Давайте посчитаем вероятность того, что пользователь принадлежит к классу 1\n",
    "result = predict(validation_path, bins_path, model_path, random_seed=20230206)\n",
    "result.head()"
   ]
  },
  {
   "cell_type": "code",
   "execution_count": 33,
   "id": "0e3c1476",
   "metadata": {},
   "outputs": [
    {
     "data": {
      "text/plain": [
       "0.20751450955867767"
      ]
     },
     "execution_count": 33,
     "metadata": {},
     "output_type": "execute_result"
    }
   ],
   "source": [
    "# давайте в качестве порога использовать середину этого диапазона\n",
    "# все что выше - пусть будет предсказано 1, что ниже - 0\n",
    "threshold = result.target.max() / 2 \n",
    "threshold"
   ]
  },
  {
   "cell_type": "code",
   "execution_count": 34,
   "id": "e5dd2989",
   "metadata": {},
   "outputs": [
    {
     "data": {
      "text/plain": [
       "228615"
      ]
     },
     "execution_count": 34,
     "metadata": {},
     "output_type": "execute_result"
    }
   ],
   "source": [
    "# Найдем пользователя, для которого нейронка предсказала самое большое значение таргета.\n",
    "# Это будет наш Герой, Образцовый Положительный Пользователь\n",
    "hero_user = result.user_id.loc[result.target.argmax()]\n",
    "hero_user"
   ]
  },
  {
   "cell_type": "code",
   "execution_count": 35,
   "id": "54c2e2c4",
   "metadata": {},
   "outputs": [
    {
     "data": {
      "text/plain": [
       "774414"
      ]
     },
     "execution_count": 35,
     "metadata": {},
     "output_type": "execute_result"
    }
   ],
   "source": [
    "# Найдем так пользователя с самым низким таргетом\n",
    "# Это будет наш Неудачник\n",
    "poor_user = result.user_id.loc[result.target.argmin()]\n",
    "poor_user"
   ]
  },
  {
   "cell_type": "code",
   "execution_count": 36,
   "id": "8c405017",
   "metadata": {},
   "outputs": [],
   "source": [
    "# границы допустимых решений.\n",
    "\n",
    "with open(quantiles_path, 'r') as f:\n",
    "    quantiles = json.load(f)"
   ]
  },
  {
   "cell_type": "code",
   "execution_count": 37,
   "id": "c3cc04d2",
   "metadata": {},
   "outputs": [
    {
     "data": {
      "text/plain": [
       "(8.145073890686035, 45117.69001)"
      ]
     },
     "execution_count": 37,
     "metadata": {},
     "output_type": "execute_result"
    }
   ],
   "source": [
    "# для каждого кода заданы лимиты положительных и отрифательных значений\n",
    "# Вот, например, диапазон, в котором должны лежать суммы для ьcc_code 4111\n",
    "quantiles[\"positive\"][\"min\"][\"4111\"], quantiles[\"positive\"][\"max\"][\"4111\"]"
   ]
  },
  {
   "cell_type": "code",
   "execution_count": 38,
   "id": "5269d843",
   "metadata": {},
   "outputs": [],
   "source": [
    "random.seed(20230206)\n",
    "# Читаем файл с исходными транзакциями\n",
    "\n",
    "df_transactions = pd.read_csv(\n",
    "    transactions_path,\n",
    "    parse_dates=[\"transaction_dttm\"],\n",
    "    dtype={\"user_id\": int, \"mcc_code\": int, \"currency_rk\": int, \"transaction_amt\": float},\n",
    ")"
   ]
  },
  {
   "cell_type": "code",
   "execution_count": 39,
   "id": "e38fc7c3",
   "metadata": {},
   "outputs": [
    {
     "name": "stderr",
     "output_type": "stream",
     "text": [
      "Global seed set to 20230206\n"
     ]
    },
    {
     "name": "stdout",
     "output_type": "stream",
     "text": [
      "CPU times: user 28.8 s, sys: 5.82 s, total: 34.6 s\n",
      "Wall time: 19.2 s\n"
     ]
    }
   ],
   "source": [
    "%%time\n",
    "target = predict(transactions_path, bins_path, model_path)"
   ]
  },
  {
   "cell_type": "code",
   "execution_count": 40,
   "id": "17e642e6",
   "metadata": {},
   "outputs": [],
   "source": [
    "one_idx = target.index[target.target > threshold]  # Эти пользователи похожи на Героя\n",
    "zero_idx = target.index[target.target <= threshold] # А эти на Неудачника\n",
    "\n",
    "users = target.user_id.values\n",
    "one_users = users[one_idx]\n",
    "zero_users = users[zero_idx]"
   ]
  },
  {
   "cell_type": "code",
   "execution_count": 41,
   "id": "c8f8552a",
   "metadata": {},
   "outputs": [],
   "source": [
    "output_path = \"/Users/xxx/Documents/Programming/vtb-data-fusion-2023/vtb-data-fusion-2023-defence/data/validation_fraud_transactions.csv\""
   ]
  },
  {
   "cell_type": "code",
   "execution_count": 42,
   "id": "0fdfe2c1",
   "metadata": {},
   "outputs": [
    {
     "name": "stderr",
     "output_type": "stream",
     "text": [
      "100%|██████████| 2124/2124 [00:30<00:00, 69.74it/s]\n"
     ]
    }
   ],
   "source": [
    "for user in tqdm(users):\n",
    "    if user in one_users:\n",
    "        copy_from = poor_user # похожим на Героя скопируем 10 последних транзакций Неудачника\n",
    "    else:\n",
    "        copy_from = hero_user # А похожим на Неудачника наоборот\n",
    "\n",
    "    idx_to = df_transactions.index[df_transactions.user_id == user][-BUDGET:]\n",
    "    idx_from = df_transactions.index[df_transactions.user_id == copy_from][-BUDGET:]\n",
    "    sign_to = np.sign(df_transactions.loc[idx_to, \"transaction_amt\"].values)\n",
    "    sign_from = np.sign(df_transactions.loc[idx_from, \"transaction_amt\"].values)\n",
    "    sign_mask = (sign_to == sign_from)\n",
    "    df_transactions.loc[idx_to[sign_mask], \"mcc_code\"] = df_transactions.loc[idx_from[sign_mask], \"mcc_code\"].values\n",
    "    df_transactions.loc[idx_to[sign_mask], \"transaction_amt\"] = df_transactions.loc[idx_from[sign_mask], \"transaction_amt\"].values\n",
    "df_transactions.to_csv(output_path, index=False)\n"
   ]
  },
  {
   "cell_type": "code",
   "execution_count": 43,
   "id": "6dbdeff5",
   "metadata": {},
   "outputs": [
    {
     "name": "stderr",
     "output_type": "stream",
     "text": [
      "100%|██████████| 637200/637200 [00:54<00:00, 11726.92it/s]\n"
     ]
    },
    {
     "data": {
      "text/plain": [
       "True"
      ]
     },
     "execution_count": 43,
     "metadata": {},
     "output_type": "execute_result"
    }
   ],
   "source": [
    "check_budget(transactions_path, output_path, quantiles_path) # Не забываем проверять бюджет перед самбитом!"
   ]
  }
 ],
 "metadata": {
  "kernelspec": {
   "display_name": "data-fusion-env",
   "language": "python",
   "name": "python3"
  },
  "language_info": {
   "codemirror_mode": {
    "name": "ipython",
    "version": 3
   },
   "file_extension": ".py",
   "mimetype": "text/x-python",
   "name": "python",
   "nbconvert_exporter": "python",
   "pygments_lexer": "ipython3",
   "version": "3.10.7"
  },
  "vscode": {
   "interpreter": {
    "hash": "bf76417c1b4cd27bcaab021405742943ff2d8cf7fa7f605135072f06e0c77910"
   }
  }
 },
 "nbformat": 4,
 "nbformat_minor": 5
}
