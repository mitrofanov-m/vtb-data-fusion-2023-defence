{
 "cells": [
  {
   "cell_type": "code",
   "execution_count": 1,
   "id": "ec03da0f",
   "metadata": {},
   "outputs": [],
   "source": [
    "from pathlib import Path\n",
    "import numpy as np\n",
    "import pandas as pd\n",
    "from sklearn.metrics import roc_auc_score\n",
    "from sklearn.model_selection import StratifiedKFold\n",
    "\n",
    "import sys, os\n",
    "from tqdm import tqdm\n",
    "\n",
    "from pathlib import Path\n",
    "\n",
    "sys.path.insert(0, os.path.join(Path('.').resolve().parent.parent))\n",
    "\n",
    "from fusionlib.predicts import reliable_predict # Функция, позволяет получить предсказание нейронки.\n",
    "from fusionlib.check_budget import check_budget # функция проверки бюджета. Проверяйте допустимость решения до сабмита"
   ]
  },
  {
   "cell_type": "code",
   "execution_count": 2,
   "id": "9f6b4f46",
   "metadata": {},
   "outputs": [],
   "source": [
    "BUDGET = 10\n",
    "from fusionlib.utils import custom_read_csv\n",
    "from fusionlib.validation import validate_results\n",
    "import json\n",
    "\n",
    "def validate_model_(predict_method: object, validation_df_path: str, bins_path: str, \n",
    "                    model_path: str, targets_path: str, quantiles_path: str, random_seed=20230206, n_splits=5) -> float:\n",
    "    \n",
    "    # загрузка необходимых данных\n",
    "    targets = pd.read_csv(targets_path)\n",
    "    with open(quantiles_path, 'r') as f:\n",
    "        quantiles = json.load(f)\n",
    "    df_transactions = custom_read_csv(validation_df_path)\n",
    "    # получение скоров\n",
    "    result_clear = predict_method(validation_df_path, bins_path, model_path, random_seed=random_seed)\n",
    "    threshold = result_clear.target.max() / 2 \n",
    "    poor_user = result_clear.user_id.loc[result_clear.target.argmin()]\n",
    "    hero_user = result_clear.user_id.loc[result_clear.target.argmax()]\n",
    "\n",
    "\n",
    "    one_idx = result_clear.index[result_clear.target > threshold]  # Эти пользователи похожи на Героя\n",
    "    zero_idx = result_clear.index[result_clear.target <= threshold] # А эти на Неудачника\n",
    "\n",
    "    users = result_clear.user_id.values\n",
    "    one_users = users[one_idx]\n",
    "    zero_users = users[zero_idx]\n",
    "\n",
    "    for user in tqdm(users):\n",
    "        if user in one_users:\n",
    "            copy_from = poor_user # похожим на Героя скопируем 10 последних транзакций Неудачника\n",
    "        else:\n",
    "            copy_from = hero_user # А похожим на Неудачника наоборот\n",
    "\n",
    "        idx_to = df_transactions.index[df_transactions.user_id == user][-BUDGET:]\n",
    "        idx_from = df_transactions.index[df_transactions.user_id == copy_from][-BUDGET:]\n",
    "        sign_to = np.sign(df_transactions.loc[idx_to, \"transaction_amt\"].values)\n",
    "        sign_from = np.sign(df_transactions.loc[idx_from, \"transaction_amt\"].values)\n",
    "        sign_mask = (sign_to == sign_from)\n",
    "        df_transactions.loc[idx_to[sign_mask], \"mcc_code\"] = df_transactions.loc[idx_from[sign_mask], \"mcc_code\"].values\n",
    "        df_transactions.loc[idx_to[sign_mask], \"transaction_amt\"] = df_transactions.loc[idx_from[sign_mask], \"transaction_amt\"].values\n",
    "    \n",
    "    fraud_df = df_transactions\n",
    "    result_fraud = predict_method(fraud_df, bins_path, model_path, random_seed=random_seed)\n",
    "\n",
    "    result_clear = result_clear.rename(columns={'target': 'clear_proba'})\n",
    "    result_fraud = result_fraud.rename(columns={'target': 'fraud_proba'})\n",
    "    \n",
    "    mean_harm_roc_auc = validate_results(result_clear, result_fraud, targets, n_splits=n_splits)\n",
    "    return mean_harm_roc_auc"
   ]
  },
  {
   "cell_type": "code",
   "execution_count": 3,
   "id": "117994ec",
   "metadata": {},
   "outputs": [],
   "source": [
    "validation_df_path = '/Users/xxx/Documents/Programming/vtb-data-fusion-2023/vtb-data-fusion-2023-defence/data/validation_clear_transactions.csv'\n",
    "bins_path = \"/Users/xxx/Documents/Programming/vtb-data-fusion-2023/vtb-data-fusion-2023-defence/models/nn_bins.pickle\" # путь до файла с бинами после тренировки модели (nn_bins.pickle)\n",
    "model_path = \"/Users/xxx/Documents/Programming/vtb-data-fusion-2023/vtb-data-fusion-2023-defence/models/nn_weights.ckpt\" # путь до файла с весами нейронной сети (nn_weights.ckpt)\n",
    "quantiles_path = \"/Users/xxx/Documents/Programming/vtb-data-fusion-2023/vtb-data-fusion-2023-defence/misc/quantiles.json\" # путь до файла с квантилями для таргета (quantiles.pickle)\n",
    "targets_path = '/Users/xxx/Documents/Programming/vtb-data-fusion-2023/data/target_finetune.csv'\n"
   ]
  },
  {
   "cell_type": "code",
   "execution_count": 4,
   "id": "cc4186e4",
   "metadata": {},
   "outputs": [],
   "source": [
    "from fusionlib.predicts import custom_predict"
   ]
  },
  {
   "cell_type": "code",
   "execution_count": 5,
   "id": "bce50afd",
   "metadata": {},
   "outputs": [
    {
     "name": "stderr",
     "output_type": "stream",
     "text": [
      "Global seed set to 20230206\n",
      "100%|██████████| 2124/2124 [00:35<00:00, 60.64it/s]\n",
      "Global seed set to 20230206\n"
     ]
    },
    {
     "name": "stdout",
     "output_type": "stream",
     "text": [
      "CPU times: user 30min 31s, sys: 6min 9s, total: 36min 41s\n",
      "Wall time: 22min 16s\n"
     ]
    }
   ],
   "source": [
    "%%time\n",
    "mean_harm_roc_auc = validate_model_(custom_predict, validation_df_path, bins_path, model_path, targets_path, quantiles_path)"
   ]
  },
  {
   "cell_type": "code",
   "execution_count": 6,
   "id": "19734386",
   "metadata": {},
   "outputs": [
    {
     "name": "stdout",
     "output_type": "stream",
     "text": [
      "Разница лидерборда и локальной валидации: 0.0172\n"
     ]
    }
   ],
   "source": [
    "public_mean_harm_roc_auc = 0.705638\t\n",
    "print(f'Разница лидерборда и локальной валидации: {round(abs(public_mean_harm_roc_auc - mean_harm_roc_auc), 4)}')"
   ]
  },
  {
   "cell_type": "code",
   "execution_count": 7,
   "id": "beb455ac",
   "metadata": {},
   "outputs": [
    {
     "data": {
      "text/plain": [
       "0.7228169807958713"
      ]
     },
     "execution_count": 7,
     "metadata": {},
     "output_type": "execute_result"
    }
   ],
   "source": [
    "mean_harm_roc_auc"
   ]
  },
  {
   "cell_type": "code",
   "execution_count": 8,
   "id": "ccb6c0de",
   "metadata": {},
   "outputs": [
    {
     "name": "stderr",
     "output_type": "stream",
     "text": [
      "Global seed set to 20230206\n",
      " 17%|█▋        | 360/2124 [00:06<00:30, 58.60it/s]\n"
     ]
    },
    {
     "ename": "KeyboardInterrupt",
     "evalue": "",
     "output_type": "error",
     "traceback": [
      "\u001b[0;31m---------------------------------------------------------------------------\u001b[0m",
      "\u001b[0;31mKeyboardInterrupt\u001b[0m                         Traceback (most recent call last)",
      "File \u001b[0;32m<timed eval>:1\u001b[0m\n",
      "Cell \u001b[0;32mIn[2], line 39\u001b[0m, in \u001b[0;36mvalidate_model_\u001b[0;34m(predict_method, validation_df_path, bins_path, model_path, targets_path, quantiles_path, random_seed, n_splits)\u001b[0m\n\u001b[1;32m     37\u001b[0m     sign_from \u001b[39m=\u001b[39m np\u001b[39m.\u001b[39msign(df_transactions\u001b[39m.\u001b[39mloc[idx_from, \u001b[39m\"\u001b[39m\u001b[39mtransaction_amt\u001b[39m\u001b[39m\"\u001b[39m]\u001b[39m.\u001b[39mvalues)\n\u001b[1;32m     38\u001b[0m     sign_mask \u001b[39m=\u001b[39m (sign_to \u001b[39m==\u001b[39m sign_from)\n\u001b[0;32m---> 39\u001b[0m     df_transactions\u001b[39m.\u001b[39;49mloc[idx_to[sign_mask], \u001b[39m\"\u001b[39;49m\u001b[39mmcc_code\u001b[39;49m\u001b[39m\"\u001b[39;49m] \u001b[39m=\u001b[39m df_transactions\u001b[39m.\u001b[39mloc[idx_from[sign_mask], \u001b[39m\"\u001b[39m\u001b[39mmcc_code\u001b[39m\u001b[39m\"\u001b[39m]\u001b[39m.\u001b[39mvalues\n\u001b[1;32m     40\u001b[0m     df_transactions\u001b[39m.\u001b[39mloc[idx_to[sign_mask], \u001b[39m\"\u001b[39m\u001b[39mtransaction_amt\u001b[39m\u001b[39m\"\u001b[39m] \u001b[39m=\u001b[39m df_transactions\u001b[39m.\u001b[39mloc[idx_from[sign_mask], \u001b[39m\"\u001b[39m\u001b[39mtransaction_amt\u001b[39m\u001b[39m\"\u001b[39m]\u001b[39m.\u001b[39mvalues\n\u001b[1;32m     42\u001b[0m fraud_df \u001b[39m=\u001b[39m df_transactions\n",
      "File \u001b[0;32m~/Documents/Programming/envs/data-fusion-env/lib/python3.10/site-packages/pandas/core/indexing.py:723\u001b[0m, in \u001b[0;36m_LocationIndexer.__setitem__\u001b[0;34m(self, key, value)\u001b[0m\n\u001b[1;32m    720\u001b[0m \u001b[39mself\u001b[39m\u001b[39m.\u001b[39m_has_valid_setitem_indexer(key)\n\u001b[1;32m    722\u001b[0m iloc \u001b[39m=\u001b[39m \u001b[39mself\u001b[39m \u001b[39mif\u001b[39;00m \u001b[39mself\u001b[39m\u001b[39m.\u001b[39mname \u001b[39m==\u001b[39m \u001b[39m\"\u001b[39m\u001b[39miloc\u001b[39m\u001b[39m\"\u001b[39m \u001b[39melse\u001b[39;00m \u001b[39mself\u001b[39m\u001b[39m.\u001b[39mobj\u001b[39m.\u001b[39miloc\n\u001b[0;32m--> 723\u001b[0m iloc\u001b[39m.\u001b[39;49m_setitem_with_indexer(indexer, value, \u001b[39mself\u001b[39;49m\u001b[39m.\u001b[39;49mname)\n",
      "File \u001b[0;32m~/Documents/Programming/envs/data-fusion-env/lib/python3.10/site-packages/pandas/core/indexing.py:1730\u001b[0m, in \u001b[0;36m_iLocIndexer._setitem_with_indexer\u001b[0;34m(self, indexer, value, name)\u001b[0m\n\u001b[1;32m   1727\u001b[0m \u001b[39m# align and set the values\u001b[39;00m\n\u001b[1;32m   1728\u001b[0m \u001b[39mif\u001b[39;00m take_split_path:\n\u001b[1;32m   1729\u001b[0m     \u001b[39m# We have to operate column-wise\u001b[39;00m\n\u001b[0;32m-> 1730\u001b[0m     \u001b[39mself\u001b[39;49m\u001b[39m.\u001b[39;49m_setitem_with_indexer_split_path(indexer, value, name)\n\u001b[1;32m   1731\u001b[0m \u001b[39melse\u001b[39;00m:\n\u001b[1;32m   1732\u001b[0m     \u001b[39mself\u001b[39m\u001b[39m.\u001b[39m_setitem_single_block(indexer, value, name)\n",
      "File \u001b[0;32m~/Documents/Programming/envs/data-fusion-env/lib/python3.10/site-packages/pandas/core/indexing.py:1773\u001b[0m, in \u001b[0;36m_iLocIndexer._setitem_with_indexer_split_path\u001b[0;34m(self, indexer, value, name)\u001b[0m\n\u001b[1;32m   1769\u001b[0m     \u001b[39mself\u001b[39m\u001b[39m.\u001b[39m_setitem_with_indexer_2d_value(indexer, value)\n\u001b[1;32m   1771\u001b[0m \u001b[39melif\u001b[39;00m \u001b[39mlen\u001b[39m(ilocs) \u001b[39m==\u001b[39m \u001b[39m1\u001b[39m \u001b[39mand\u001b[39;00m lplane_indexer \u001b[39m==\u001b[39m \u001b[39mlen\u001b[39m(value) \u001b[39mand\u001b[39;00m \u001b[39mnot\u001b[39;00m is_scalar(pi):\n\u001b[1;32m   1772\u001b[0m     \u001b[39m# We are setting multiple rows in a single column.\u001b[39;00m\n\u001b[0;32m-> 1773\u001b[0m     \u001b[39mself\u001b[39;49m\u001b[39m.\u001b[39;49m_setitem_single_column(ilocs[\u001b[39m0\u001b[39;49m], value, pi)\n\u001b[1;32m   1775\u001b[0m \u001b[39melif\u001b[39;00m \u001b[39mlen\u001b[39m(ilocs) \u001b[39m==\u001b[39m \u001b[39m1\u001b[39m \u001b[39mand\u001b[39;00m \u001b[39m0\u001b[39m \u001b[39m!=\u001b[39m lplane_indexer \u001b[39m!=\u001b[39m \u001b[39mlen\u001b[39m(value):\n\u001b[1;32m   1776\u001b[0m     \u001b[39m# We are trying to set N values into M entries of a single\u001b[39;00m\n\u001b[1;32m   1777\u001b[0m     \u001b[39m#  column, which is invalid for N != M\u001b[39;00m\n\u001b[1;32m   1778\u001b[0m     \u001b[39m# Exclude zero-len for e.g. boolean masking that is all-false\u001b[39;00m\n\u001b[1;32m   1780\u001b[0m     \u001b[39mif\u001b[39;00m \u001b[39mlen\u001b[39m(value) \u001b[39m==\u001b[39m \u001b[39m1\u001b[39m \u001b[39mand\u001b[39;00m \u001b[39mnot\u001b[39;00m is_integer(info_axis):\n\u001b[1;32m   1781\u001b[0m         \u001b[39m# This is a case like df.iloc[:3, [1]] = [0]\u001b[39;00m\n\u001b[1;32m   1782\u001b[0m         \u001b[39m#  where we treat as df.iloc[:3, 1] = 0\u001b[39;00m\n",
      "File \u001b[0;32m~/Documents/Programming/envs/data-fusion-env/lib/python3.10/site-packages/pandas/core/indexing.py:1920\u001b[0m, in \u001b[0;36m_iLocIndexer._setitem_single_column\u001b[0;34m(self, loc, value, plane_indexer)\u001b[0m\n\u001b[1;32m   1917\u001b[0m \u001b[39melse\u001b[39;00m:\n\u001b[1;32m   1918\u001b[0m     \u001b[39m# set the item, possibly having a dtype change\u001b[39;00m\n\u001b[1;32m   1919\u001b[0m     ser \u001b[39m=\u001b[39m ser\u001b[39m.\u001b[39mcopy()\n\u001b[0;32m-> 1920\u001b[0m     ser\u001b[39m.\u001b[39m_mgr \u001b[39m=\u001b[39m ser\u001b[39m.\u001b[39;49m_mgr\u001b[39m.\u001b[39;49msetitem(indexer\u001b[39m=\u001b[39;49m(pi,), value\u001b[39m=\u001b[39;49mvalue)\n\u001b[1;32m   1921\u001b[0m     ser\u001b[39m.\u001b[39m_maybe_update_cacher(clear\u001b[39m=\u001b[39m\u001b[39mTrue\u001b[39;00m)\n\u001b[1;32m   1923\u001b[0m \u001b[39m# reset the sliced object if unique\u001b[39;00m\n",
      "File \u001b[0;32m~/Documents/Programming/envs/data-fusion-env/lib/python3.10/site-packages/pandas/core/internals/managers.py:355\u001b[0m, in \u001b[0;36mBaseBlockManager.setitem\u001b[0;34m(self, indexer, value)\u001b[0m\n\u001b[1;32m    354\u001b[0m \u001b[39mdef\u001b[39;00m \u001b[39msetitem\u001b[39m(\u001b[39mself\u001b[39m: T, indexer, value) \u001b[39m-\u001b[39m\u001b[39m>\u001b[39m T:\n\u001b[0;32m--> 355\u001b[0m     \u001b[39mreturn\u001b[39;00m \u001b[39mself\u001b[39;49m\u001b[39m.\u001b[39;49mapply(\u001b[39m\"\u001b[39;49m\u001b[39msetitem\u001b[39;49m\u001b[39m\"\u001b[39;49m, indexer\u001b[39m=\u001b[39;49mindexer, value\u001b[39m=\u001b[39;49mvalue)\n",
      "File \u001b[0;32m~/Documents/Programming/envs/data-fusion-env/lib/python3.10/site-packages/pandas/core/internals/managers.py:327\u001b[0m, in \u001b[0;36mBaseBlockManager.apply\u001b[0;34m(self, f, align_keys, ignore_failures, **kwargs)\u001b[0m\n\u001b[1;32m    325\u001b[0m         applied \u001b[39m=\u001b[39m b\u001b[39m.\u001b[39mapply(f, \u001b[39m*\u001b[39m\u001b[39m*\u001b[39mkwargs)\n\u001b[1;32m    326\u001b[0m     \u001b[39melse\u001b[39;00m:\n\u001b[0;32m--> 327\u001b[0m         applied \u001b[39m=\u001b[39m \u001b[39mgetattr\u001b[39;49m(b, f)(\u001b[39m*\u001b[39;49m\u001b[39m*\u001b[39;49mkwargs)\n\u001b[1;32m    328\u001b[0m \u001b[39mexcept\u001b[39;00m (\u001b[39mTypeError\u001b[39;00m, \u001b[39mNotImplementedError\u001b[39;00m):\n\u001b[1;32m    329\u001b[0m     \u001b[39mif\u001b[39;00m \u001b[39mnot\u001b[39;00m ignore_failures:\n",
      "File \u001b[0;32m~/Documents/Programming/envs/data-fusion-env/lib/python3.10/site-packages/pandas/core/internals/blocks.py:925\u001b[0m, in \u001b[0;36mBlock.setitem\u001b[0;34m(self, indexer, value)\u001b[0m\n\u001b[1;32m    923\u001b[0m \u001b[39m# coerce if block dtype can store value\u001b[39;00m\n\u001b[1;32m    924\u001b[0m values \u001b[39m=\u001b[39m \u001b[39mself\u001b[39m\u001b[39m.\u001b[39mvalues\n\u001b[0;32m--> 925\u001b[0m \u001b[39mif\u001b[39;00m \u001b[39mnot\u001b[39;00m \u001b[39mself\u001b[39;49m\u001b[39m.\u001b[39;49m_can_hold_element(value):\n\u001b[1;32m    926\u001b[0m     \u001b[39m# current dtype cannot store value, coerce to common dtype\u001b[39;00m\n\u001b[1;32m    927\u001b[0m     \u001b[39mreturn\u001b[39;00m \u001b[39mself\u001b[39m\u001b[39m.\u001b[39mcoerce_to_target_dtype(value)\u001b[39m.\u001b[39msetitem(indexer, value)\n\u001b[1;32m    929\u001b[0m \u001b[39m# value must be storable at this moment\u001b[39;00m\n",
      "File \u001b[0;32m~/Documents/Programming/envs/data-fusion-env/lib/python3.10/site-packages/pandas/core/internals/blocks.py:620\u001b[0m, in \u001b[0;36mBlock._can_hold_element\u001b[0;34m(self, element)\u001b[0m\n\u001b[1;32m    617\u001b[0m \u001b[39m@final\u001b[39m\n\u001b[1;32m    618\u001b[0m \u001b[39mdef\u001b[39;00m \u001b[39m_can_hold_element\u001b[39m(\u001b[39mself\u001b[39m, element: Any) \u001b[39m-\u001b[39m\u001b[39m>\u001b[39m \u001b[39mbool\u001b[39m:\n\u001b[1;32m    619\u001b[0m \u001b[39m    \u001b[39m\u001b[39m\"\"\"require the same dtype as ourselves\"\"\"\u001b[39;00m\n\u001b[0;32m--> 620\u001b[0m     element \u001b[39m=\u001b[39m extract_array(element, extract_numpy\u001b[39m=\u001b[39;49m\u001b[39mTrue\u001b[39;49;00m)\n\u001b[1;32m    621\u001b[0m     \u001b[39mreturn\u001b[39;00m can_hold_element(\u001b[39mself\u001b[39m\u001b[39m.\u001b[39mvalues, element)\n",
      "File \u001b[0;32m~/Documents/Programming/envs/data-fusion-env/lib/python3.10/site-packages/pandas/core/construction.py:417\u001b[0m, in \u001b[0;36mextract_array\u001b[0;34m(obj, extract_numpy, extract_range)\u001b[0m\n\u001b[1;32m    369\u001b[0m \u001b[39mdef\u001b[39;00m \u001b[39mextract_array\u001b[39m(\n\u001b[1;32m    370\u001b[0m     obj: \u001b[39mobject\u001b[39m, extract_numpy: \u001b[39mbool\u001b[39m \u001b[39m=\u001b[39m \u001b[39mFalse\u001b[39;00m, extract_range: \u001b[39mbool\u001b[39m \u001b[39m=\u001b[39m \u001b[39mFalse\u001b[39;00m\n\u001b[1;32m    371\u001b[0m ) \u001b[39m-\u001b[39m\u001b[39m>\u001b[39m Any \u001b[39m|\u001b[39m ArrayLike:\n\u001b[1;32m    372\u001b[0m \u001b[39m    \u001b[39m\u001b[39m\"\"\"\u001b[39;00m\n\u001b[1;32m    373\u001b[0m \u001b[39m    Extract the ndarray or ExtensionArray from a Series or Index.\u001b[39;00m\n\u001b[1;32m    374\u001b[0m \n\u001b[0;32m   (...)\u001b[0m\n\u001b[1;32m    415\u001b[0m \u001b[39m    array([1, 2, 3])\u001b[39;00m\n\u001b[1;32m    416\u001b[0m \u001b[39m    \"\"\"\u001b[39;00m\n\u001b[0;32m--> 417\u001b[0m     \u001b[39mif\u001b[39;00m \u001b[39misinstance\u001b[39;49m(obj, (ABCIndex, ABCSeries)):\n\u001b[1;32m    418\u001b[0m         \u001b[39mif\u001b[39;00m \u001b[39misinstance\u001b[39m(obj, ABCRangeIndex):\n\u001b[1;32m    419\u001b[0m             \u001b[39mif\u001b[39;00m extract_range:\n",
      "File \u001b[0;32m~/Documents/Programming/envs/data-fusion-env/lib/python3.10/site-packages/pandas/core/dtypes/generic.py:43\u001b[0m, in \u001b[0;36mcreate_pandas_abc_type.<locals>._check\u001b[0;34m(cls, inst)\u001b[0m\n\u001b[1;32m     39\u001b[0m \u001b[39mdef\u001b[39;00m \u001b[39mcreate_pandas_abc_type\u001b[39m(name, attr, comp):\n\u001b[1;32m     40\u001b[0m \n\u001b[1;32m     41\u001b[0m     \u001b[39m# https://github.com/python/mypy/issues/1006\u001b[39;00m\n\u001b[1;32m     42\u001b[0m     \u001b[39m# error: 'classmethod' used with a non-method\u001b[39;00m\n\u001b[0;32m---> 43\u001b[0m     \u001b[39m@classmethod\u001b[39m  \u001b[39m# type: ignore[misc]\u001b[39;00m\n\u001b[1;32m     44\u001b[0m     \u001b[39mdef\u001b[39;00m \u001b[39m_check\u001b[39m(\u001b[39mcls\u001b[39m, inst) \u001b[39m-\u001b[39m\u001b[39m>\u001b[39m \u001b[39mbool\u001b[39m:\n\u001b[1;32m     45\u001b[0m         \u001b[39mreturn\u001b[39;00m \u001b[39mgetattr\u001b[39m(inst, attr, \u001b[39m\"\u001b[39m\u001b[39m_typ\u001b[39m\u001b[39m\"\u001b[39m) \u001b[39min\u001b[39;00m comp\n\u001b[1;32m     47\u001b[0m     dct \u001b[39m=\u001b[39m {\u001b[39m\"\u001b[39m\u001b[39m__instancecheck__\u001b[39m\u001b[39m\"\u001b[39m: _check, \u001b[39m\"\u001b[39m\u001b[39m__subclasscheck__\u001b[39m\u001b[39m\"\u001b[39m: _check}\n",
      "\u001b[0;31mKeyboardInterrupt\u001b[0m: "
     ]
    }
   ],
   "source": [
    "%%time\n",
    "validate_model_(reliable_predict, validation_df_path, bins_path, model_path, targets_path, quantiles_path)"
   ]
  },
  {
   "cell_type": "code",
   "execution_count": null,
   "id": "8ca4f03a",
   "metadata": {},
   "outputs": [],
   "source": []
  },
  {
   "cell_type": "markdown",
   "id": "0ac95703",
   "metadata": {},
   "source": [
    " "
   ]
  }
 ],
 "metadata": {
  "kernelspec": {
   "display_name": "data-fusion-env",
   "language": "python",
   "name": "python3"
  },
  "language_info": {
   "codemirror_mode": {
    "name": "ipython",
    "version": 3
   },
   "file_extension": ".py",
   "mimetype": "text/x-python",
   "name": "python",
   "nbconvert_exporter": "python",
   "pygments_lexer": "ipython3",
   "version": "3.10.7"
  },
  "vscode": {
   "interpreter": {
    "hash": "bf76417c1b4cd27bcaab021405742943ff2d8cf7fa7f605135072f06e0c77910"
   }
  }
 },
 "nbformat": 4,
 "nbformat_minor": 5
}
